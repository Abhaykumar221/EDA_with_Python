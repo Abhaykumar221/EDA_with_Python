{
 "cells": [
  {
   "cell_type": "code",
   "execution_count": 14,
   "id": "bf753957",
   "metadata": {},
   "outputs": [],
   "source": [
    "import pandas as pd\n",
    "import numpy as np\n",
    "import seaborn as sns\n",
    "import matplotlib.pyplot as plt\n"
   ]
  },
  {
   "cell_type": "code",
   "execution_count": 15,
   "id": "389e2c80",
   "metadata": {},
   "outputs": [
    {
     "data": {
      "text/html": [
       "<div>\n",
       "<style scoped>\n",
       "    .dataframe tbody tr th:only-of-type {\n",
       "        vertical-align: middle;\n",
       "    }\n",
       "\n",
       "    .dataframe tbody tr th {\n",
       "        vertical-align: top;\n",
       "    }\n",
       "\n",
       "    .dataframe thead th {\n",
       "        text-align: right;\n",
       "    }\n",
       "</style>\n",
       "<table border=\"1\" class=\"dataframe\">\n",
       "  <thead>\n",
       "    <tr style=\"text-align: right;\">\n",
       "      <th></th>\n",
       "      <th>#</th>\n",
       "      <th>Name</th>\n",
       "      <th>Type 1</th>\n",
       "      <th>Type 2</th>\n",
       "      <th>Total</th>\n",
       "      <th>HP</th>\n",
       "      <th>Attack</th>\n",
       "      <th>Defense</th>\n",
       "      <th>Sp. Atk</th>\n",
       "      <th>Sp. Def</th>\n",
       "      <th>Speed</th>\n",
       "      <th>Generation</th>\n",
       "      <th>Legendary</th>\n",
       "    </tr>\n",
       "  </thead>\n",
       "  <tbody>\n",
       "    <tr>\n",
       "      <th>0</th>\n",
       "      <td>1</td>\n",
       "      <td>Bulbasaur</td>\n",
       "      <td>Grass</td>\n",
       "      <td>Poison</td>\n",
       "      <td>318</td>\n",
       "      <td>45</td>\n",
       "      <td>49</td>\n",
       "      <td>49</td>\n",
       "      <td>65</td>\n",
       "      <td>65</td>\n",
       "      <td>45</td>\n",
       "      <td>1</td>\n",
       "      <td>False</td>\n",
       "    </tr>\n",
       "    <tr>\n",
       "      <th>1</th>\n",
       "      <td>2</td>\n",
       "      <td>Ivysaur</td>\n",
       "      <td>Grass</td>\n",
       "      <td>Poison</td>\n",
       "      <td>405</td>\n",
       "      <td>60</td>\n",
       "      <td>62</td>\n",
       "      <td>63</td>\n",
       "      <td>80</td>\n",
       "      <td>80</td>\n",
       "      <td>60</td>\n",
       "      <td>1</td>\n",
       "      <td>False</td>\n",
       "    </tr>\n",
       "    <tr>\n",
       "      <th>2</th>\n",
       "      <td>3</td>\n",
       "      <td>Venusaur</td>\n",
       "      <td>Grass</td>\n",
       "      <td>Poison</td>\n",
       "      <td>525</td>\n",
       "      <td>80</td>\n",
       "      <td>82</td>\n",
       "      <td>83</td>\n",
       "      <td>100</td>\n",
       "      <td>100</td>\n",
       "      <td>80</td>\n",
       "      <td>1</td>\n",
       "      <td>False</td>\n",
       "    </tr>\n",
       "    <tr>\n",
       "      <th>3</th>\n",
       "      <td>3</td>\n",
       "      <td>VenusaurMega Venusaur</td>\n",
       "      <td>Grass</td>\n",
       "      <td>Poison</td>\n",
       "      <td>625</td>\n",
       "      <td>80</td>\n",
       "      <td>100</td>\n",
       "      <td>123</td>\n",
       "      <td>122</td>\n",
       "      <td>120</td>\n",
       "      <td>80</td>\n",
       "      <td>1</td>\n",
       "      <td>False</td>\n",
       "    </tr>\n",
       "    <tr>\n",
       "      <th>4</th>\n",
       "      <td>4</td>\n",
       "      <td>Charmander</td>\n",
       "      <td>Fire</td>\n",
       "      <td>NaN</td>\n",
       "      <td>309</td>\n",
       "      <td>39</td>\n",
       "      <td>52</td>\n",
       "      <td>43</td>\n",
       "      <td>60</td>\n",
       "      <td>50</td>\n",
       "      <td>65</td>\n",
       "      <td>1</td>\n",
       "      <td>False</td>\n",
       "    </tr>\n",
       "  </tbody>\n",
       "</table>\n",
       "</div>"
      ],
      "text/plain": [
       "   #                   Name Type 1  Type 2  Total  HP  Attack  Defense  \\\n",
       "0  1              Bulbasaur  Grass  Poison    318  45      49       49   \n",
       "1  2                Ivysaur  Grass  Poison    405  60      62       63   \n",
       "2  3               Venusaur  Grass  Poison    525  80      82       83   \n",
       "3  3  VenusaurMega Venusaur  Grass  Poison    625  80     100      123   \n",
       "4  4             Charmander   Fire     NaN    309  39      52       43   \n",
       "\n",
       "   Sp. Atk  Sp. Def  Speed  Generation  Legendary  \n",
       "0       65       65     45           1      False  \n",
       "1       80       80     60           1      False  \n",
       "2      100      100     80           1      False  \n",
       "3      122      120     80           1      False  \n",
       "4       60       50     65           1      False  "
      ]
     },
     "execution_count": 15,
     "metadata": {},
     "output_type": "execute_result"
    }
   ],
   "source": [
    "df=pd.read_csv('Pokemon.csv')\n",
    "df.head()"
   ]
  },
  {
   "cell_type": "code",
   "execution_count": 16,
   "id": "f2b783eb",
   "metadata": {},
   "outputs": [
    {
     "data": {
      "text/plain": [
       "(800, 13)"
      ]
     },
     "execution_count": 16,
     "metadata": {},
     "output_type": "execute_result"
    }
   ],
   "source": [
    "df.shape"
   ]
  },
  {
   "cell_type": "code",
   "execution_count": 17,
   "id": "3874b1de",
   "metadata": {},
   "outputs": [
    {
     "data": {
      "text/plain": [
       "<bound method DataFrame.info of        #                   Name   Type 1  Type 2  Total  HP  Attack  Defense  \\\n",
       "0      1              Bulbasaur    Grass  Poison    318  45      49       49   \n",
       "1      2                Ivysaur    Grass  Poison    405  60      62       63   \n",
       "2      3               Venusaur    Grass  Poison    525  80      82       83   \n",
       "3      3  VenusaurMega Venusaur    Grass  Poison    625  80     100      123   \n",
       "4      4             Charmander     Fire     NaN    309  39      52       43   \n",
       "..   ...                    ...      ...     ...    ...  ..     ...      ...   \n",
       "795  719                Diancie     Rock   Fairy    600  50     100      150   \n",
       "796  719    DiancieMega Diancie     Rock   Fairy    700  50     160      110   \n",
       "797  720    HoopaHoopa Confined  Psychic   Ghost    600  80     110       60   \n",
       "798  720     HoopaHoopa Unbound  Psychic    Dark    680  80     160       60   \n",
       "799  721              Volcanion     Fire   Water    600  80     110      120   \n",
       "\n",
       "     Sp. Atk  Sp. Def  Speed  Generation  Legendary  \n",
       "0         65       65     45           1      False  \n",
       "1         80       80     60           1      False  \n",
       "2        100      100     80           1      False  \n",
       "3        122      120     80           1      False  \n",
       "4         60       50     65           1      False  \n",
       "..       ...      ...    ...         ...        ...  \n",
       "795      100      150     50           6       True  \n",
       "796      160      110    110           6       True  \n",
       "797      150      130     70           6       True  \n",
       "798      170      130     80           6       True  \n",
       "799      130       90     70           6       True  \n",
       "\n",
       "[800 rows x 13 columns]>"
      ]
     },
     "execution_count": 17,
     "metadata": {},
     "output_type": "execute_result"
    }
   ],
   "source": [
    "df.info"
   ]
  },
  {
   "cell_type": "code",
   "execution_count": 18,
   "id": "fa139f0d",
   "metadata": {},
   "outputs": [
    {
     "data": {
      "text/plain": [
       "#              int64\n",
       "Name          object\n",
       "Type 1        object\n",
       "Type 2        object\n",
       "Total          int64\n",
       "HP             int64\n",
       "Attack         int64\n",
       "Defense        int64\n",
       "Sp. Atk        int64\n",
       "Sp. Def        int64\n",
       "Speed          int64\n",
       "Generation     int64\n",
       "Legendary       bool\n",
       "dtype: object"
      ]
     },
     "execution_count": 18,
     "metadata": {},
     "output_type": "execute_result"
    }
   ],
   "source": [
    "df.dtypes\n"
   ]
  },
  {
   "cell_type": "code",
   "execution_count": 19,
   "id": "bc971f29",
   "metadata": {},
   "outputs": [
    {
     "data": {
      "text/plain": [
       "<Axes: xlabel='Type 1', ylabel='count'>"
      ]
     },
     "execution_count": 19,
     "metadata": {},
     "output_type": "execute_result"
    },
    {
     "data": {
      "image/png": "[encoded data removed]",
      "text/plain": [
       "<Figure size 1200x500 with 1 Axes>"
      ]
     },
     "metadata": {},
     "output_type": "display_data"
    }
   ],
   "source": [
    "plt.figure(figsize=(12,5))\n",
    "sns.countplot( data = df , x = 'Type 1')\n"
   ]
  },
  {
   "cell_type": "code",
   "execution_count": 20,
   "id": "0319bcda",
   "metadata": {},
   "outputs": [
    {
     "data": {
      "text/plain": [
       "<Axes: xlabel='Type 2', ylabel='count'>"
      ]
     },
     "execution_count": 20,
     "metadata": {},
     "output_type": "execute_result"
    },
    {
     "data": {
      "image/png": "[encoded data removed]",
      "text/plain": [
       "<Figure size 1200x500 with 1 Axes>"
      ]
     },
     "metadata": {},
     "output_type": "display_data"
    }
   ],
   "source": [
    "plt.figure(figsize=(12,5))\n",
    "sns.countplot( data = df , x = 'Type 2')"
   ]
  },
  {
   "cell_type": "markdown",
   "id": "91ef81a4",
   "metadata": {},
   "source": [
    "# Finding best\n",
    "\n",
    "Fom here, we are finding a Pokemon that is best suited for battle against Jolteon. As Pokemon have different strengths and weaknesses, a good pokemon for battle against Jolteon is one where its strength is Jolteon's weakness."
   ]
  },
  {
   "cell_type": "code",
   "execution_count": 21,
   "id": "5786616a",
   "metadata": {},
   "outputs": [
    {
     "data": {
      "text/html": [
       "<div>\n",
       "<style scoped>\n",
       "    .dataframe tbody tr th:only-of-type {\n",
       "        vertical-align: middle;\n",
       "    }\n",
       "\n",
       "    .dataframe tbody tr th {\n",
       "        vertical-align: top;\n",
       "    }\n",
       "\n",
       "    .dataframe thead th {\n",
       "        text-align: right;\n",
       "    }\n",
       "</style>\n",
       "<table border=\"1\" class=\"dataframe\">\n",
       "  <thead>\n",
       "    <tr style=\"text-align: right;\">\n",
       "      <th></th>\n",
       "      <th>#</th>\n",
       "      <th>Name</th>\n",
       "      <th>Type 1</th>\n",
       "      <th>Type 2</th>\n",
       "      <th>Total</th>\n",
       "      <th>HP</th>\n",
       "      <th>Attack</th>\n",
       "      <th>Defense</th>\n",
       "      <th>Sp. Atk</th>\n",
       "      <th>Sp. Def</th>\n",
       "      <th>Speed</th>\n",
       "      <th>Generation</th>\n",
       "      <th>Legendary</th>\n",
       "    </tr>\n",
       "  </thead>\n",
       "  <tbody>\n",
       "    <tr>\n",
       "      <th>146</th>\n",
       "      <td>135</td>\n",
       "      <td>Jolteon</td>\n",
       "      <td>Electric</td>\n",
       "      <td>NaN</td>\n",
       "      <td>525</td>\n",
       "      <td>65</td>\n",
       "      <td>65</td>\n",
       "      <td>60</td>\n",
       "      <td>110</td>\n",
       "      <td>95</td>\n",
       "      <td>130</td>\n",
       "      <td>1</td>\n",
       "      <td>False</td>\n",
       "    </tr>\n",
       "  </tbody>\n",
       "</table>\n",
       "</div>"
      ],
      "text/plain": [
       "       #     Name    Type 1 Type 2  Total  HP  Attack  Defense  Sp. Atk  \\\n",
       "146  135  Jolteon  Electric    NaN    525  65      65       60      110   \n",
       "\n",
       "     Sp. Def  Speed  Generation  Legendary  \n",
       "146       95    130           1      False  "
      ]
     },
     "execution_count": 21,
     "metadata": {},
     "output_type": "execute_result"
    }
   ],
   "source": [
    "df[df[\"Name\"]==\"Jolteon\"]"
   ]
  },
  {
   "cell_type": "code",
   "execution_count": 22,
   "id": "5fbf40d2",
   "metadata": {},
   "outputs": [],
   "source": [
    "df_type = df[df['Type 1'] == 'ground']"
   ]
  },
  {
   "cell_type": "code",
   "execution_count": 23,
   "id": "f3d47a6a",
   "metadata": {},
   "outputs": [
    {
     "name": "stdout",
     "output_type": "stream",
     "text": [
      "Empty DataFrame\n",
      "Columns: [#, Name, Type 1, Type 2, Total, HP, Attack, Defense, Sp. Atk, Sp. Def, Speed, Generation, Legendary]\n",
      "Index: []\n"
     ]
    }
   ],
   "source": [
    "print(df_type)"
   ]
  },
  {
   "cell_type": "code",
   "execution_count": 24,
   "id": "0b826736",
   "metadata": {},
   "outputs": [],
   "source": [
    "df_type_gen1 = df[df['Generation'] == 1]"
   ]
  },
  {
   "cell_type": "code",
   "execution_count": 25,
   "id": "be9686a2",
   "metadata": {},
   "outputs": [
    {
     "name": "stdout",
     "output_type": "stream",
     "text": [
      "       #                   Name   Type 1    Type 2  Total   HP  Attack  \\\n",
      "0      1              Bulbasaur    Grass    Poison    318   45      49   \n",
      "1      2                Ivysaur    Grass    Poison    405   60      62   \n",
      "2      3               Venusaur    Grass    Poison    525   80      82   \n",
      "3      3  VenusaurMega Venusaur    Grass    Poison    625   80     100   \n",
      "4      4             Charmander     Fire       NaN    309   39      52   \n",
      "..   ...                    ...      ...       ...    ...  ...     ...   \n",
      "161  149              Dragonite   Dragon    Flying    600   91     134   \n",
      "162  150                 Mewtwo  Psychic       NaN    680  106     110   \n",
      "163  150    MewtwoMega Mewtwo X  Psychic  Fighting    780  106     190   \n",
      "164  150    MewtwoMega Mewtwo Y  Psychic       NaN    780  106     150   \n",
      "165  151                    Mew  Psychic       NaN    600  100     100   \n",
      "\n",
      "     Defense  Sp. Atk  Sp. Def  Speed  Generation  Legendary  \n",
      "0         49       65       65     45           1      False  \n",
      "1         63       80       80     60           1      False  \n",
      "2         83      100      100     80           1      False  \n",
      "3        123      122      120     80           1      False  \n",
      "4         43       60       50     65           1      False  \n",
      "..       ...      ...      ...    ...         ...        ...  \n",
      "161       95      100      100     80           1      False  \n",
      "162       90      154       90    130           1       True  \n",
      "163      100      154      100    130           1       True  \n",
      "164       70      194      120    140           1       True  \n",
      "165      100      100      100    100           1      False  \n",
      "\n",
      "[166 rows x 13 columns]\n"
     ]
    }
   ],
   "source": [
    "print(df_type_gen1)"
   ]
  },
  {
   "cell_type": "code",
   "execution_count": 28,
   "id": "9619ac92",
   "metadata": {},
   "outputs": [],
   "source": [
    "df_type_gen1_sorted = df_type_gen1.sort_values(by=\"Sp. Def\")"
   ]
  },
  {
   "cell_type": "code",
   "execution_count": 29,
   "id": "36d3de29",
   "metadata": {},
   "outputs": [
    {
     "name": "stdout",
     "output_type": "stream",
     "text": [
      "       #                   Name   Type 1  Type 2  Total   HP  Attack  Defense  \\\n",
      "13    10               Caterpie      Bug     NaN    195   45      30       35   \n",
      "139  129               Magikarp    Water     NaN    200   20      10       55   \n",
      "16    13                 Weedle      Bug  Poison    195   40      35       30   \n",
      "17    14                 Kakuna      Bug  Poison    205   45      25       50   \n",
      "97    90               Shellder    Water     NaN    305   30      65      100   \n",
      "..   ...                    ...      ...     ...    ...  ...     ...      ...   \n",
      "164  150    MewtwoMega Mewtwo Y  Psychic     NaN    780  106     150       70   \n",
      "79    73             Tentacruel    Water  Poison    515   80      70       65   \n",
      "131  122               Mr. Mime  Psychic   Fairy    460   40      45       65   \n",
      "156  144               Articuno      Ice  Flying    580   90      85      100   \n",
      "141  130  GyaradosMega Gyarados    Water    Dark    640   95     155      109   \n",
      "\n",
      "     Sp. Atk  Sp. Def  Speed  Generation  Legendary  \n",
      "13        20       20     45           1      False  \n",
      "139       15       20     80           1      False  \n",
      "16        20       20     50           1      False  \n",
      "17        25       25     35           1      False  \n",
      "97        45       25     40           1      False  \n",
      "..       ...      ...    ...         ...        ...  \n",
      "164      194      120    140           1       True  \n",
      "79        80      120    100           1      False  \n",
      "131      100      120     90           1      False  \n",
      "156       95      125     85           1       True  \n",
      "141       70      130     81           1      False  \n",
      "\n",
      "[166 rows x 13 columns]\n"
     ]
    }
   ],
   "source": [
    "print(df_type_gen1_sorted)"
   ]
  },
  {
   "cell_type": "markdown",
   "id": "9021523c",
   "metadata": {},
   "source": [
    "# HP of Pokemon across different generations."
   ]
  },
  {
   "cell_type": "code",
   "execution_count": 30,
   "id": "4d747690",
   "metadata": {},
   "outputs": [
    {
     "data": {
      "text/plain": [
       "<Axes: xlabel='Generation', ylabel='HP'>"
      ]
     },
     "execution_count": 30,
     "metadata": {},
     "output_type": "execute_result"
    },
    {
     "data": {
      "image/png": "[encoded data removed]",
      "text/plain": [
       "<Figure size 640x480 with 1 Axes>"
      ]
     },
     "metadata": {},
     "output_type": "display_data"
    }
   ],
   "source": [
    "sns.boxplot(x=\"Generation\", y=\"HP\",data=df)\n"
   ]
  },
  {
   "cell_type": "code",
   "execution_count": 32,
   "id": "b6230c61",
   "metadata": {},
   "outputs": [],
   "source": [
    "quantile_97 = df['HP'].quantile(0.97)"
   ]
  },
  {
   "cell_type": "code",
   "execution_count": 33,
   "id": "487cf75f",
   "metadata": {},
   "outputs": [],
   "source": [
    "hp_outliers_df = df[df['HP'] > quantile_97]"
   ]
  },
  {
   "cell_type": "code",
   "execution_count": 34,
   "id": "afa1e1bb",
   "metadata": {},
   "outputs": [
    {
     "name": "stdout",
     "output_type": "stream",
     "text": [
      "       #                   Name    Type 1    Type 2  Total   HP  Attack  \\\n",
      "45    40             Wigglytuff    Normal     Fairy    435  140      70   \n",
      "121  113                Chansey    Normal       NaN    450  250       5   \n",
      "142  131                 Lapras     Water       Ice    535  130      85   \n",
      "145  134               Vaporeon     Water       NaN    525  130      65   \n",
      "155  143                Snorlax    Normal       NaN    540  160     110   \n",
      "185  171                Lanturn     Water  Electric    460  125      58   \n",
      "217  202              Wobbuffet   Psychic       NaN    405  190      33   \n",
      "261  242                Blissey    Normal       NaN    540  255      10   \n",
      "313  289                Slaking    Normal       NaN    670  150     160   \n",
      "321  297               Hariyama  Fighting       NaN    474  144     120   \n",
      "350  320                Wailmer     Water       NaN    400  130      70   \n",
      "351  321                Wailord     Water       NaN    500  170      90   \n",
      "473  426               Drifblim     Ghost    Flying    498  150      80   \n",
      "495  446               Munchlax    Normal       NaN    390  135      85   \n",
      "544  487  GiratinaAltered Forme     Ghost    Dragon    680  150     100   \n",
      "545  487   GiratinaOrigin Forme     Ghost    Dragon    680  150     120   \n",
      "655  594              Alomomola     Water       NaN    470  165      75   \n",
      "710  646                 Kyurem    Dragon       Ice    660  125     130   \n",
      "711  646     KyuremBlack Kyurem    Dragon       Ice    700  125     170   \n",
      "712  646     KyuremWhite Kyurem    Dragon       Ice    700  125     120   \n",
      "741  673                 Gogoat     Grass       NaN    531  123     100   \n",
      "769  699                Aurorus      Rock       Ice    521  123      77   \n",
      "792  716                Xerneas     Fairy       NaN    680  126     131   \n",
      "793  717                Yveltal      Dark    Flying    680  126     131   \n",
      "\n",
      "     Defense  Sp. Atk  Sp. Def  Speed  Generation  Legendary  \n",
      "45        45       85       50     45           1      False  \n",
      "121        5       35      105     50           1      False  \n",
      "142       80       85       95     60           1      False  \n",
      "145       60      110       95     65           1      False  \n",
      "155       65       65      110     30           1      False  \n",
      "185       58       76       76     67           2      False  \n",
      "217       58       33       58     33           2      False  \n",
      "261       10       75      135     55           2      False  \n",
      "313      100       95       65    100           3      False  \n",
      "321       60       40       60     50           3      False  \n",
      "350       35       70       35     60           3      False  \n",
      "351       45       90       45     60           3      False  \n",
      "473       44       90       54     80           4      False  \n",
      "495       40       40       85      5           4      False  \n",
      "544      120      100      120     90           4       True  \n",
      "545      100      120      100     90           4       True  \n",
      "655       80       40       45     65           5      False  \n",
      "710       90      130       90     95           5       True  \n",
      "711      100      120       90     95           5       True  \n",
      "712       90      170      100     95           5       True  \n",
      "741       62       97       81     68           6      False  \n",
      "769       72       99       92     58           6      False  \n",
      "792       95      131       98     99           6       True  \n",
      "793       95      131       98     99           6       True  \n"
     ]
    }
   ],
   "source": [
    "print(hp_outliers_df)"
   ]
  },
  {
   "cell_type": "code",
   "execution_count": 35,
   "id": "79e566fb",
   "metadata": {},
   "outputs": [],
   "source": [
    "hp_outliers_id = hp_outliers_df.index.tolist()"
   ]
  },
  {
   "cell_type": "code",
   "execution_count": 36,
   "id": "b0aa2b2d",
   "metadata": {},
   "outputs": [
    {
     "name": "stdout",
     "output_type": "stream",
     "text": [
      "[45, 121, 142, 145, 155, 185, 217, 261, 313, 321, 350, 351, 473, 495, 544, 545, 655, 710, 711, 712, 741, 769, 792, 793]\n"
     ]
    }
   ],
   "source": [
    "print(hp_outliers_id)"
   ]
  },
  {
   "cell_type": "code",
   "execution_count": 39,
   "id": "cf2fe708",
   "metadata": {},
   "outputs": [],
   "source": [
    "df_hp_no_outliers = df.drop(index=hp_outliers_id)"
   ]
  },
  {
   "cell_type": "code",
   "execution_count": 40,
   "id": "7beae7bf",
   "metadata": {},
   "outputs": [
    {
     "name": "stdout",
     "output_type": "stream",
     "text": [
      "       #                   Name   Type 1  Type 2  Total  HP  Attack  Defense  \\\n",
      "0      1              Bulbasaur    Grass  Poison    318  45      49       49   \n",
      "1      2                Ivysaur    Grass  Poison    405  60      62       63   \n",
      "2      3               Venusaur    Grass  Poison    525  80      82       83   \n",
      "3      3  VenusaurMega Venusaur    Grass  Poison    625  80     100      123   \n",
      "4      4             Charmander     Fire     NaN    309  39      52       43   \n",
      "..   ...                    ...      ...     ...    ...  ..     ...      ...   \n",
      "795  719                Diancie     Rock   Fairy    600  50     100      150   \n",
      "796  719    DiancieMega Diancie     Rock   Fairy    700  50     160      110   \n",
      "797  720    HoopaHoopa Confined  Psychic   Ghost    600  80     110       60   \n",
      "798  720     HoopaHoopa Unbound  Psychic    Dark    680  80     160       60   \n",
      "799  721              Volcanion     Fire   Water    600  80     110      120   \n",
      "\n",
      "     Sp. Atk  Sp. Def  Speed  Generation  Legendary  \n",
      "0         65       65     45           1      False  \n",
      "1         80       80     60           1      False  \n",
      "2        100      100     80           1      False  \n",
      "3        122      120     80           1      False  \n",
      "4         60       50     65           1      False  \n",
      "..       ...      ...    ...         ...        ...  \n",
      "795      100      150     50           6       True  \n",
      "796      160      110    110           6       True  \n",
      "797      150      130     70           6       True  \n",
      "798      170      130     80           6       True  \n",
      "799      130       90     70           6       True  \n",
      "\n",
      "[776 rows x 13 columns]\n"
     ]
    }
   ],
   "source": [
    "print(df_hp_no_outliers)\n"
   ]
  },
  {
   "cell_type": "code",
   "execution_count": 41,
   "id": "5857ddc3",
   "metadata": {},
   "outputs": [
    {
     "data": {
      "text/plain": [
       "<Axes: xlabel='Generation', ylabel='HP'>"
      ]
     },
     "execution_count": 41,
     "metadata": {},
     "output_type": "execute_result"
    },
    {
     "data": {
      "image/png": "[encoded data removed]",
      "text/plain": [
       "<Figure size 640x480 with 1 Axes>"
      ]
     },
     "metadata": {},
     "output_type": "display_data"
    }
   ],
   "source": [
    "sns.boxplot(x=\"Generation\",y=\"HP\", data=df_hp_no_outliers)"
   ]
  },
  {
   "cell_type": "code",
   "execution_count": 43,
   "id": "f804c3ae",
   "metadata": {},
   "outputs": [
    {
     "data": {
      "text/plain": [
       "<Axes: >"
      ]
     },
     "execution_count": 43,
     "metadata": {},
     "output_type": "execute_result"
    },
    {
     "data": {
      "image/png": "[encoded data removed]",
      "text/plain": [
       "<Figure size 640x480 with 2 Axes>"
      ]
     },
     "metadata": {},
     "output_type": "display_data"
    }
   ],
   "source": [
    "sns.heatmap(\n",
    "    df.loc[:, ['HP', 'Attack', 'Sp. Atk', 'Defense', 'Sp. Def', 'Speed']].corr(),\n",
    "    annot=True\n",
    ")"
   ]
  },
  {
   "cell_type": "code",
   "execution_count": null,
   "id": "1f324936",
   "metadata": {},
   "outputs": [],
   "source": []
  }
 ],
 "metadata": {
  "kernelspec": {
   "display_name": "Python 3 (ipykernel)",
   "language": "python",
   "name": "python3"
  },
  "language_info": {
   "codemirror_mode": {
    "name": "ipython",
    "version": 3
   },
   "file_extension": ".py",
   "mimetype": "text/x-python",
   "name": "python",
   "nbconvert_exporter": "python",
   "pygments_lexer": "ipython3",
   "version": "3.11.3"
  }
 },
 "nbformat": 4,
 "nbformat_minor": 5
}
